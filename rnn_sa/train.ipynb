{
 "cells": [
  {
   "cell_type": "code",
   "execution_count": null,
   "metadata": {},
   "outputs": [],
   "source": [
    "import torch\n",
    "import torch.nn as nn\n",
    "import torch.optim as optim\n",
    "import json"
   ]
  },
  {
   "cell_type": "code",
   "execution_count": null,
   "metadata": {},
   "outputs": [],
   "source": [
    "from helpers.acl_imdb_dataset import build_dataloader\n",
    "from model import SentimentModel"
   ]
  },
  {
   "cell_type": "code",
   "execution_count": null,
   "metadata": {},
   "outputs": [],
   "source": [
    "BATCH_SIZE = 16\n",
    "EPOCHS = 100\n",
    "EARLY_STOP_PATIENCE = 5\n"
   ]
  },
  {
   "cell_type": "code",
   "execution_count": null,
   "metadata": {},
   "outputs": [],
   "source": [
    "train_dataset_path = \"/home/admyyh/python_workspace/advml/rnn_sa/aclImdb/train\"\n",
    "test_dataset_path = \"/home/admyyh/python_workspace/advml/rnn_sa/aclImdb/test\"\n",
    "vocab_path = \"/home/admyyh/python_workspace/advml/rnn_sa/word_vocab_norm_None_stop_False.json\"\n",
    "\n",
    "train_loader, validation_loader = build_dataloader(\n",
    "    root_folder=train_dataset_path, vocab_file=vocab_path,\n",
    "    batch_size=32,  # Using batch size 8 for testing\n",
    "    shuffle=True,\n",
    "    split=True, val_ratio=0.1, random_seed=42,\n",
    ")\n",
    "\n",
    "test_loader = build_dataloader(\n",
    "    root_folder=test_dataset_path, vocab_file=vocab_path,\n",
    "    batch_size=32,  # Using batch size 8 for testing\n",
    "    shuffle=False,\n",
    "    split=False\n",
    ")"
   ]
  },
  {
   "cell_type": "code",
   "execution_count": null,
   "metadata": {},
   "outputs": [],
   "source": [
    "with open(vocab_path, 'r') as f:\n",
    "    vocab_data = json.load(f)\n"
   ]
  },
  {
   "cell_type": "code",
   "execution_count": null,
   "metadata": {},
   "outputs": [],
   "source": [
    "device = torch.device('cuda' if torch.cuda.is_available() else 'cpu')\n",
    "model = SentimentModel(vocab_size=len(vocab_data['word_vocab']))\n",
    "model.to(device)"
   ]
  },
  {
   "cell_type": "code",
   "execution_count": null,
   "metadata": {},
   "outputs": [],
   "source": [
    "criterion = nn.CrossEntropyLoss()  # tag classification loss\n",
    "optimizer = optim.Adam(model.parameters(), lr=0.001, weight_decay=1e-5)"
   ]
  },
  {
   "cell_type": "code",
   "execution_count": null,
   "metadata": {},
   "outputs": [],
   "source": [
    "best_val_loss = float('inf')\n",
    "\n",
    "# Training loop\n",
    "for epoch in range(EPOCHS):\n",
    "    # Training phase\n",
    "    model.train()\n",
    "    train_loss = 0.0\n",
    "    train_correct = 0\n",
    "    train_total = 0\n",
    "    \n",
    "    for inputs, targets, lengths in train_loader:\n",
    "        inputs, targets, lengths = inputs.to(device), targets.to(device), lengths.to(device)\n",
    "        \n",
    "        # Zero the gradients\n",
    "        optimizer.zero_grad()\n",
    "        \n",
    "        # Forward pass\n",
    "        logits = model(inputs, lengths)\n",
    "        \n",
    "        # Calculate loss\n",
    "        loss = criterion(logits, targets)\n",
    "        \n",
    "        # Backward pass\n",
    "        loss.backward()\n",
    "        \n",
    "        # Gradient clipping (moved inside the loop)\n",
    "        torch.nn.utils.clip_grad_norm_(model.parameters(), max_norm=1.0)\n",
    "        \n",
    "        # Update weights\n",
    "        optimizer.step()\n",
    "        \n",
    "        # Track statistics\n",
    "        train_loss += loss.item() * inputs.size(0)\n",
    "        _, predicted = torch.max(logits, 1)\n",
    "        train_total += targets.size(0)\n",
    "        train_correct += (predicted == targets).sum().item()\n",
    "    \n",
    "    # Calculate average training metrics\n",
    "    avg_train_loss = train_loss / len(train_loader.dataset)\n",
    "    train_accuracy = 100 * train_correct / train_total\n",
    "    \n",
    "    # Validation phase\n",
    "    model.eval()\n",
    "    val_loss = 0.0\n",
    "    val_correct = 0\n",
    "    val_total = 0\n",
    "    \n",
    "    with torch.no_grad():\n",
    "        for inputs, targets, lengths in validation_loader:\n",
    "            inputs, targets, lengths = inputs.to(device), targets.to(device), lengths.to(device)\n",
    "            \n",
    "            # Forward pass\n",
    "            logits = model(inputs, lengths)\n",
    "            \n",
    "            # Calculate loss\n",
    "            loss = criterion(logits, targets)\n",
    "            \n",
    "            # Track statistics\n",
    "            val_loss += loss.item() * inputs.size(0)\n",
    "            _, predicted = torch.max(logits, 1)\n",
    "            val_total += targets.size(0)\n",
    "            val_correct += (predicted == targets).sum().item()\n",
    "    \n",
    "    # Calculate average validation metrics\n",
    "    avg_val_loss = val_loss / len(validation_loader.dataset)\n",
    "    val_accuracy = 100 * val_correct / val_total\n",
    "    \n",
    "    # Print epoch results\n",
    "    print(f\"Epoch {epoch+1}/{EPOCHS}\")\n",
    "    print(f\"  Train Loss: {avg_train_loss:.4f} | Train Acc: {train_accuracy:.2f}%\")\n",
    "    print(f\"  Val Loss: {avg_val_loss:.4f} | Val Acc: {val_accuracy:.2f}%\")\n",
    "    \n",
    "    # # Early stopping check\n",
    "    # if avg_val_loss < best_val_loss:\n",
    "    #     best_val_loss = avg_val_loss\n",
    "    #     patience_counter = 0\n",
    "    #     # Save the best model\n",
    "    #     torch.save(model.state_dict(), 'best_sentiment_model.pt')\n",
    "    #     print(\"  Saved best model!\")\n",
    "    # else:\n",
    "    #     patience_counter += 1\n",
    "    #     print(f\"  No improvement for {patience_counter} epochs\")\n",
    "        \n",
    "    # if patience_counter >= EARLY_STOP_PATIENCE:\n",
    "    #     print(f\"Early stopping triggered after {epoch+1} epochs\")\n",
    "    #     break\n"
   ]
  },
  {
   "cell_type": "code",
   "execution_count": null,
   "metadata": {},
   "outputs": [],
   "source": []
  }
 ],
 "metadata": {
  "kernelspec": {
   "display_name": "ultralytics",
   "language": "python",
   "name": "python3"
  },
  "language_info": {
   "codemirror_mode": {
    "name": "ipython",
    "version": 3
   },
   "file_extension": ".py",
   "mimetype": "text/x-python",
   "name": "python",
   "nbconvert_exporter": "python",
   "pygments_lexer": "ipython3",
   "version": "3.11.11"
  }
 },
 "nbformat": 4,
 "nbformat_minor": 2
}
