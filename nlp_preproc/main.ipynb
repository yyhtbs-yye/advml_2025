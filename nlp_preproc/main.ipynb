{
 "cells": [
  {
   "cell_type": "code",
   "execution_count": null,
   "metadata": {},
   "outputs": [],
   "source": [
    "import nltk\n",
    "import string\n",
    "import re\n",
    "from nltk.tokenize import word_tokenize, sent_tokenize\n",
    "from nltk.corpus import stopwords\n",
    "from nltk.stem import PorterStemmer, WordNetLemmatizer \n",
    "from collections import Counter\n",
    "import matplotlib.pyplot as plt\n",
    "import pandas as pd"
   ]
  },
  {
   "cell_type": "code",
   "execution_count": null,
   "metadata": {},
   "outputs": [
    {
     "name": "stderr",
     "output_type": "stream",
     "text": [
      "[nltk_data] Downloading package punkt to /home/admyyh/nltk_data...\n",
      "[nltk_data]   Package punkt is already up-to-date!\n",
      "[nltk_data] Downloading package stopwords to /home/admyyh/nltk_data...\n",
      "[nltk_data]   Package stopwords is already up-to-date!\n",
      "[nltk_data] Downloading package wordnet to /home/admyyh/nltk_data...\n",
      "[nltk_data]   Package wordnet is already up-to-date!\n"
     ]
    },
    {
     "data": {
      "text/plain": [
       "True"
      ]
     },
     "execution_count": 72,
     "metadata": {},
     "output_type": "execute_result"
    }
   ],
   "source": [
    "# Download necessary NLTK resources\n",
    "nltk.download('punkt')\n",
    "nltk.download('stopwords')\n",
    "nltk.download('wordnet')"
   ]
  },
  {
   "cell_type": "code",
   "execution_count": null,
   "metadata": {},
   "outputs": [],
   "source": [
    "# 1. Sample text for demonstration\n",
    "sample_text = \"\"\"Natural Language Processing (NLP) is a field of artificial intelligence in 21 th century that focuses on the interaction \n",
    "between computers and humans using natural language. The ultimate objective of NLP is to read, decipher, understand, \n",
    "and make sense of human languages in a valuable way. NLP is used in many applications including machine translation, \n",
    "speech recognition, sentiment analysis, question answering, and text summarization. Despite recent advances, NLP \n",
    "remains a challenging field due to the ambiguity and complexity of human language.\"\"\""
   ]
  },
  {
   "cell_type": "code",
   "execution_count": 74,
   "metadata": {},
   "outputs": [
    {
     "name": "stdout",
     "output_type": "stream",
     "text": [
      "Sentence Tokenization (Total: 4 sentences):\n",
      "Sentence 1: Natural Language Processing (NLP) is a field of artificial intelligence in 21 th century that focuses on the interaction \n",
      "between computers and humans using natural language.\n",
      "Sentence 2: The ultimate objective of NLP is to read, decipher, understand, \n",
      "and make sense of human languages in a valuable way.\n",
      "Sentence 3: NLP is used in many applications including machine translation, \n",
      "speech recognition, sentiment analysis, question answering, and text summarization.\n",
      "Sentence 4: Despite recent advances, NLP \n",
      "remains a challenging field due to the ambiguity and complexity of human language.\n"
     ]
    }
   ],
   "source": [
    "# 2. Sentence Tokenization\n",
    "sentences = sent_tokenize(sample_text)\n",
    "print(f\"Sentence Tokenization (Total: {len(sentences)} sentences):\")\n",
    "for i, sentence in enumerate(sentences, 1):\n",
    "    print(f\"Sentence {i}: {sentence}\")\n"
   ]
  },
  {
   "cell_type": "code",
   "execution_count": 75,
   "metadata": {},
   "outputs": [
    {
     "name": "stdout",
     "output_type": "stream",
     "text": [
      "Word Tokenization (Total: 95 tokens):\n",
      "Natural Language Processing (NLP) is a field of artificial intelligence in 21 th century that focuses on the interaction \n",
      "between computers and humans using natural language. The ultimate objective of NLP is to read, decipher, understand, \n",
      "and make sense of human languages in a valuable way. NLP is used in many applications including machine translation, \n",
      "speech recognition, sentiment analysis, question answering, and text summarization. Despite recent advances, NLP \n",
      "remains a challenging field due to the ambiguity and complexity of human language. ...\n",
      "------------------------------------------------------------------------------------------\n",
      "['Natural', 'Language', 'Processing', '(', 'NLP', ')', 'is', 'a', 'field', 'of', 'artificial', 'intelligence', 'in', '21', 'th', 'century', 'that', 'focuses', 'on', 'the'] ...\n"
     ]
    }
   ],
   "source": [
    "# 3. Word Tokenization\n",
    "words = word_tokenize(sample_text)\n",
    "print(f\"Word Tokenization (Total: {len(words)} tokens):\")\n",
    "print(sample_text, \"...\")  # Display first 20 tokens for brevity\n",
    "print(\"---\" * 30)  # Display first 20 tokens for brevity\n",
    "\n",
    "print(words[:20], \"...\")  # Display first 20 tokens for brevity\n"
   ]
  },
  {
   "cell_type": "code",
   "execution_count": 76,
   "metadata": {},
   "outputs": [
    {
     "name": "stdout",
     "output_type": "stream",
     "text": [
      "Lowercase Conversion:\n",
      "['natural', 'language', 'processing', '(', 'nlp', ')', 'is', 'a', 'field', 'of', 'artificial', 'intelligence', 'in', '21', 'th', 'century', 'that', 'focuses', 'on', 'the'] ...\n"
     ]
    }
   ],
   "source": [
    "# 4. Lowercase Conversion\n",
    "words_lower = [word.lower() for word in words]\n",
    "print(\"Lowercase Conversion:\")\n",
    "print(words_lower[:20], \"...\")\n"
   ]
  },
  {
   "cell_type": "code",
   "execution_count": 77,
   "metadata": {},
   "outputs": [
    {
     "name": "stdout",
     "output_type": "stream",
     "text": [
      "After Removing Punctuation:\n",
      "['natural', 'language', 'processing', 'nlp', 'is', 'a', 'field', 'of', 'artificial', 'intelligence', 'in', '21', 'th', 'century', 'that', 'focuses', 'on', 'the', 'interaction', 'between'] ...\n"
     ]
    }
   ],
   "source": [
    "# 5. Removing Punctuation\n",
    "words_no_punct = [word for word in words_lower if word not in string.punctuation]\n",
    "print(\"After Removing Punctuation:\")\n",
    "print(words_no_punct[:20], \"...\")\n"
   ]
  },
  {
   "cell_type": "code",
   "execution_count": 78,
   "metadata": {},
   "outputs": [
    {
     "name": "stdout",
     "output_type": "stream",
     "text": [
      "After Removing Numbers:\n",
      "['natural', 'language', 'processing', 'nlp', 'is', 'a', 'field', 'of', 'artificial', 'intelligence', 'in', 'th', 'century', 'that', 'focuses', 'on', 'the', 'interaction', 'between', 'computers'] ...\n"
     ]
    }
   ],
   "source": [
    "# 6. Removing Numbers\n",
    "words_no_numbers = [word for word in words_no_punct if not word.isdigit()]\n",
    "print(\"After Removing Numbers:\")\n",
    "print(words_no_numbers[:20], \"...\")\n"
   ]
  },
  {
   "cell_type": "code",
   "execution_count": 79,
   "metadata": {},
   "outputs": [
    {
     "name": "stdout",
     "output_type": "stream",
     "text": [
      "After Removing Stop Words (Reduced from 80 to 55 tokens):\n",
      "['natural', 'language', 'processing', 'nlp', 'field', 'artificial', 'intelligence', 'th', 'century', 'focuses', 'interaction', 'computers', 'humans', 'using', 'natural', 'language', 'ultimate', 'objective', 'nlp', 'read'] ...\n"
     ]
    }
   ],
   "source": [
    "# 7. Removing Stop Words\n",
    "stop_words = set(stopwords.words('english'))\n",
    "words_no_stopwords = [word for word in words_no_numbers if word not in stop_words]\n",
    "print(f\"After Removing Stop Words (Reduced from {len(words_no_numbers)} to {len(words_no_stopwords)} tokens):\")\n",
    "print(words_no_stopwords[:20], \"...\")\n"
   ]
  },
  {
   "cell_type": "code",
   "execution_count": 80,
   "metadata": {},
   "outputs": [
    {
     "name": "stdout",
     "output_type": "stream",
     "text": [
      "After Stemming:\n",
      "['natur', 'languag', 'process', 'nlp', 'field', 'artifici', 'intellig', 'th', 'centuri', 'focus', 'interact', 'comput', 'human', 'use', 'natur', 'languag', 'ultim', 'object', 'nlp', 'read'] ...\n"
     ]
    }
   ],
   "source": [
    "# 8. Stemming\n",
    "stemmer = PorterStemmer()\n",
    "stemmed_words = [stemmer.stem(word) for word in words_no_stopwords]\n",
    "print(\"After Stemming:\")\n",
    "print(stemmed_words[:20], \"...\")\n"
   ]
  },
  {
   "cell_type": "code",
   "execution_count": 81,
   "metadata": {},
   "outputs": [
    {
     "name": "stdout",
     "output_type": "stream",
     "text": [
      "After Lemmatization:\n",
      "['natural', 'language', 'processing', 'nlp', 'field', 'artificial', 'intelligence', 'th', 'century', 'focus', 'interaction', 'computer', 'human', 'using', 'natural', 'language', 'ultimate', 'objective', 'nlp', 'read'] ...\n"
     ]
    }
   ],
   "source": [
    "# 9. Lemmatization\n",
    "lemmatizer = WordNetLemmatizer()\n",
    "lemmatized_words = [lemmatizer.lemmatize(word) for word in words_no_stopwords]\n",
    "print(\"After Lemmatization:\")\n",
    "print(lemmatized_words[:20], \"...\")\n"
   ]
  },
  {
   "cell_type": "code",
   "execution_count": 88,
   "metadata": {},
   "outputs": [
    {
     "data": {
      "text/html": [
       "<div>\n",
       "<style scoped>\n",
       "    .dataframe tbody tr th:only-of-type {\n",
       "        vertical-align: middle;\n",
       "    }\n",
       "\n",
       "    .dataframe tbody tr th {\n",
       "        vertical-align: top;\n",
       "    }\n",
       "\n",
       "    .dataframe thead th {\n",
       "        text-align: right;\n",
       "    }\n",
       "</style>\n",
       "<table border=\"1\" class=\"dataframe\">\n",
       "  <thead>\n",
       "    <tr style=\"text-align: right;\">\n",
       "      <th></th>\n",
       "      <th>Original</th>\n",
       "      <th>Stemmed</th>\n",
       "      <th>Lemmatized</th>\n",
       "    </tr>\n",
       "  </thead>\n",
       "  <tbody>\n",
       "    <tr>\n",
       "      <th>0</th>\n",
       "      <td>natural</td>\n",
       "      <td>natur</td>\n",
       "      <td>natural</td>\n",
       "    </tr>\n",
       "    <tr>\n",
       "      <th>1</th>\n",
       "      <td>language</td>\n",
       "      <td>languag</td>\n",
       "      <td>language</td>\n",
       "    </tr>\n",
       "    <tr>\n",
       "      <th>2</th>\n",
       "      <td>processing</td>\n",
       "      <td>process</td>\n",
       "      <td>processing</td>\n",
       "    </tr>\n",
       "    <tr>\n",
       "      <th>3</th>\n",
       "      <td>nlp</td>\n",
       "      <td>nlp</td>\n",
       "      <td>nlp</td>\n",
       "    </tr>\n",
       "    <tr>\n",
       "      <th>4</th>\n",
       "      <td>field</td>\n",
       "      <td>field</td>\n",
       "      <td>field</td>\n",
       "    </tr>\n",
       "    <tr>\n",
       "      <th>5</th>\n",
       "      <td>artificial</td>\n",
       "      <td>artifici</td>\n",
       "      <td>artificial</td>\n",
       "    </tr>\n",
       "    <tr>\n",
       "      <th>6</th>\n",
       "      <td>intelligence</td>\n",
       "      <td>intellig</td>\n",
       "      <td>intelligence</td>\n",
       "    </tr>\n",
       "    <tr>\n",
       "      <th>7</th>\n",
       "      <td>th</td>\n",
       "      <td>th</td>\n",
       "      <td>th</td>\n",
       "    </tr>\n",
       "    <tr>\n",
       "      <th>8</th>\n",
       "      <td>century</td>\n",
       "      <td>centuri</td>\n",
       "      <td>century</td>\n",
       "    </tr>\n",
       "    <tr>\n",
       "      <th>9</th>\n",
       "      <td>focuses</td>\n",
       "      <td>focus</td>\n",
       "      <td>focus</td>\n",
       "    </tr>\n",
       "    <tr>\n",
       "      <th>10</th>\n",
       "      <td>interaction</td>\n",
       "      <td>interact</td>\n",
       "      <td>interaction</td>\n",
       "    </tr>\n",
       "    <tr>\n",
       "      <th>11</th>\n",
       "      <td>computers</td>\n",
       "      <td>comput</td>\n",
       "      <td>computer</td>\n",
       "    </tr>\n",
       "    <tr>\n",
       "      <th>12</th>\n",
       "      <td>humans</td>\n",
       "      <td>human</td>\n",
       "      <td>human</td>\n",
       "    </tr>\n",
       "    <tr>\n",
       "      <th>13</th>\n",
       "      <td>using</td>\n",
       "      <td>use</td>\n",
       "      <td>using</td>\n",
       "    </tr>\n",
       "    <tr>\n",
       "      <th>14</th>\n",
       "      <td>natural</td>\n",
       "      <td>natur</td>\n",
       "      <td>natural</td>\n",
       "    </tr>\n",
       "  </tbody>\n",
       "</table>\n",
       "</div>"
      ],
      "text/plain": [
       "        Original   Stemmed    Lemmatized\n",
       "0        natural     natur       natural\n",
       "1       language   languag      language\n",
       "2     processing   process    processing\n",
       "3            nlp       nlp           nlp\n",
       "4          field     field         field\n",
       "5     artificial  artifici    artificial\n",
       "6   intelligence  intellig  intelligence\n",
       "7             th        th            th\n",
       "8        century   centuri       century\n",
       "9        focuses     focus         focus\n",
       "10   interaction  interact   interaction\n",
       "11     computers    comput      computer\n",
       "12        humans     human         human\n",
       "13         using       use         using\n",
       "14       natural     natur       natural"
      ]
     },
     "execution_count": 88,
     "metadata": {},
     "output_type": "execute_result"
    }
   ],
   "source": [
    "# 10. Comparison of Stemming vs Lemmatization\n",
    "comparison = pd.DataFrame({\n",
    "    'Original': words_no_stopwords[:15],\n",
    "    'Stemmed': stemmed_words[:15],\n",
    "    'Lemmatized': lemmatized_words[:15]\n",
    "})\n",
    "comparison"
   ]
  },
  {
   "cell_type": "code",
   "execution_count": 83,
   "metadata": {},
   "outputs": [
    {
     "name": "stdout",
     "output_type": "stream",
     "text": [
      "Vocabulary Size: 45\n",
      "Vocabulary (first 20 terms):\n",
      "['advance', 'ambiguity', 'analysis', 'answering', 'application', 'artificial', 'century', 'challenging', 'complexity', 'computer', 'decipher', 'despite', 'due', 'field', 'focus', 'human', 'including', 'intelligence', 'interaction', 'language']\n"
     ]
    }
   ],
   "source": [
    "# 11. Creating Vocabulary\n",
    "vocabulary = sorted(set(lemmatized_words))\n",
    "print(f\"Vocabulary Size: {len(vocabulary)}\")\n",
    "print(\"Vocabulary (first 20 terms):\")\n",
    "print(vocabulary[:20])\n"
   ]
  },
  {
   "cell_type": "code",
   "execution_count": null,
   "metadata": {},
   "outputs": [],
   "source": [
    "Counter(lemmatized_words)"
   ]
  },
  {
   "cell_type": "code",
   "execution_count": null,
   "metadata": {},
   "outputs": [],
   "source": [
    "# 12. Term Frequency\n",
    "word_freq = Counter(lemmatized_words)\n",
    "most_common = word_freq.most_common(10)\n",
    "print(\"Top 10 Most Frequent Terms:\")\n",
    "for word, freq in most_common:\n",
    "    print(f\"{word}: {freq}\")\n"
   ]
  },
  {
   "cell_type": "code",
   "execution_count": 97,
   "metadata": {},
   "outputs": [
    {
     "data": {
      "text/plain": [
       "{'natural': 2, 'language': 4, 'nlp': 4, 'field': 2, 'human': 3}"
      ]
     },
     "execution_count": 97,
     "metadata": {},
     "output_type": "execute_result"
    }
   ],
   "source": [
    "vocab = {}\n",
    "for word, freq in word_freq.items():\n",
    "    if freq >= 2:\n",
    "        vocab[word] = freq\n",
    "vocab"
   ]
  },
  {
   "cell_type": "code",
   "execution_count": 85,
   "metadata": {},
   "outputs": [
    {
     "data": {
      "image/png": "[encoded data removed]",
      "text/plain": [
       "<Figure size 1200x600 with 1 Axes>"
      ]
     },
     "metadata": {},
     "output_type": "display_data"
    }
   ],
   "source": [
    "# Visualize word frequencies\n",
    "plt.figure(figsize=(12, 6))\n",
    "words, freqs = zip(*most_common)\n",
    "plt.bar(words, freqs)\n",
    "plt.title('Top 10 Most Frequent Terms')\n",
    "plt.xlabel('Terms')\n",
    "plt.ylabel('Frequency')\n",
    "plt.xticks(rotation=45)\n",
    "plt.tight_layout()\n",
    "plt.show()\n"
   ]
  },
  {
   "cell_type": "code",
   "execution_count": null,
   "metadata": {},
   "outputs": [
    {
     "name": "stdout",
     "output_type": "stream",
     "text": [
      "\n",
      "Final Processed Text:\n",
      "['natural', 'language', 'processing', 'nlp', 'field', 'artificial', 'intelligence', 'th', 'century', 'focus', 'interaction', 'computer', 'human', 'using', 'natural', 'language', 'ultimate', 'objective', 'nlp', 'read', 'decipher', 'understand', 'make', 'sense', 'human', 'language', 'valuable', 'way', 'nlp', 'used', 'many', 'application', 'including', 'machine', 'translation', 'speech', 'recognition', 'sentiment', 'analysis', 'question', 'answering', 'text', 'summarization', 'despite', 'recent', 'advance', 'nlp', 'remains', 'challenging', 'field', 'due', 'ambiguity', 'complexity', 'human', 'language']\n"
     ]
    }
   ],
   "source": [
    "# 13. Full Preprocessing Function\n",
    "def preprocess_text(text):\n",
    "    \"\"\"\n",
    "    Function to preprocess text with all the steps shown above\n",
    "    \"\"\"\n",
    "    # Tokenize\n",
    "    tokens = word_tokenize(text.lower())\n",
    "    \n",
    "    # Remove punctuation and numbers\n",
    "    tokens = [token for token in tokens if token not in string.punctuation]\n",
    "    \n",
    "    # Remove stopwords\n",
    "    # stop_words = set(stopwords.words('english'))\n",
    "    # tokens = [token for token in tokens if token not in stop_words]\n",
    "    \n",
    "    # Lemmatize\n",
    "    lemmatizer = WordNetLemmatizer()\n",
    "    tokens = [lemmatizer.lemmatize(token) for token in tokens]\n",
    "    \n",
    "    return tokens\n",
    "\n",
    "# Example usage of the full preprocessing function\n",
    "processed_text = preprocess_text(sample_text)\n",
    "print(\"\\nFinal Processed Text:\")\n",
    "print(processed_text)\n",
    "\n"
   ]
  },
  {
   "cell_type": "code",
   "execution_count": 87,
   "metadata": {},
   "outputs": [
    {
     "name": "stdout",
     "output_type": "stream",
     "text": [
      "Vocabulary with Indices:\n",
      "efficiently: 0\n",
      "fascinating: 1\n",
      "language: 2\n",
      "learning: 3\n",
      "machine: 4\n",
      "model: 5\n",
      "natural: 6\n",
      "nltk: 7\n",
      "preprocessing: 8\n",
      "process: 9\n",
      "processing: 10\n",
      "provides: 11\n",
      "text: 12\n",
      "tool: 13\n",
      "\n",
      "Vocabulary Size: 14\n",
      "\n",
      "Word Frequencies:\n",
      "text: 2\n",
      "natural: 1\n",
      "language: 1\n",
      "processing: 1\n",
      "fascinating: 1\n",
      "machine: 1\n",
      "learning: 1\n",
      "model: 1\n",
      "process: 1\n",
      "efficiently: 1\n",
      "nltk: 1\n",
      "provides: 1\n",
      "tool: 1\n",
      "preprocessing: 1\n"
     ]
    }
   ],
   "source": [
    "\n",
    "\n",
    "\n",
    "# 14. Building and Saving a Vocabulary\n",
    "def build_vocabulary(texts, min_freq=1):\n",
    "    \"\"\"\n",
    "    Build vocabulary from a list of preprocessed texts.\n",
    "    - texts: List of tokenized texts\n",
    "    - min_freq: Minimum frequency for a term to be included\n",
    "    \"\"\"\n",
    "    # Flatten list of tokens\n",
    "    all_tokens = [token for text in texts for token in text]\n",
    "    \n",
    "    # Count tokens\n",
    "    token_counts = Counter(all_tokens)\n",
    "    \n",
    "    # Filter by minimum frequency\n",
    "    vocabulary = {token: count for token, count in token_counts.items() if count >= min_freq}\n",
    "    \n",
    "    # Assign indices to tokens\n",
    "    token_to_idx = {token: idx for idx, token in enumerate(sorted(vocabulary.keys()))}\n",
    "    \n",
    "    return token_to_idx, vocabulary\n",
    "\n",
    "# Example with multiple texts\n",
    "texts = [\n",
    "    \"Natural language processing is fascinating.\",\n",
    "    \"Machine learning models can process text efficiently.\",\n",
    "    \"NLTK provides tools for text preprocessing.\"\n",
    "]\n",
    "\n",
    "# Preprocess all texts\n",
    "processed_texts = [preprocess_text(text) for text in texts]\n",
    "\n",
    "# Build vocabulary\n",
    "token_to_idx, vocab = build_vocabulary(processed_texts, min_freq=1)\n",
    "\n",
    "print(\"Vocabulary with Indices:\")\n",
    "for token, idx in token_to_idx.items():\n",
    "    print(f\"{token}: {idx}\")\n",
    "\n",
    "print(f\"\\nVocabulary Size: {len(vocab)}\")\n",
    "print(\"\\nWord Frequencies:\")\n",
    "for token, count in sorted(vocab.items(), key=lambda x: x[1], reverse=True):\n",
    "    print(f\"{token}: {count}\")"
   ]
  }
 ],
 "metadata": {
  "kernelspec": {
   "display_name": "ultralytics",
   "language": "python",
   "name": "python3"
  },
  "language_info": {
   "codemirror_mode": {
    "name": "ipython",
    "version": 3
   },
   "file_extension": ".py",
   "mimetype": "text/x-python",
   "name": "python",
   "nbconvert_exporter": "python",
   "pygments_lexer": "ipython3",
   "version": "3.11.11"
  }
 },
 "nbformat": 4,
 "nbformat_minor": 2
}
