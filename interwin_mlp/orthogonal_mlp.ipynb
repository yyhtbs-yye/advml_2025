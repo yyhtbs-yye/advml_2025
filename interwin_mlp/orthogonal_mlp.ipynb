{
 "cells": [
  {
   "cell_type": "code",
   "execution_count": 1,
   "metadata": {},
   "outputs": [],
   "source": [
    "import torch\n",
    "import torch.nn as nn\n",
    "import torch.optim as optim\n",
    "import torchvision\n",
    "import torchvision.transforms as transforms\n",
    "from torch.utils.data import DataLoader"
   ]
  },
  {
   "cell_type": "code",
   "execution_count": 2,
   "metadata": {},
   "outputs": [],
   "source": [
    "class OrthogonalMLP(nn.Module):\n",
    "    def __init__(self, input_size=(28, 28), num_classes=10):\n",
    "        super(OrthogonalMLP, self).__init__()\n",
    "        \n",
    "        H, W = input_size\n",
    "        \n",
    "        # FC layer applied on Height dimension (H)\n",
    "        self.fc_h1 = nn.Linear(H, 16)  # Reduce 28 -> 16\n",
    "        self.fc_h2 = nn.Linear(16, 8)  # Reduce 16 -> 8\n",
    "        \n",
    "        # FC layer applied on Width dimension (W)\n",
    "        self.fc_w1 = nn.Linear(W, 16)  # Reduce 28 -> 16\n",
    "        self.fc_w2 = nn.Linear(16, 8)  # Reduce 16 -> 8\n",
    "\n",
    "        # Flatten and final classification layer\n",
    "        self.final_fc = nn.Linear(8 * 8, num_classes)  # Classification layer for 10 classes\n",
    "\n",
    "    def forward(self, x):\n",
    "        # x shape: (batch_size, 1, 28, 28) -> remove channel dimension\n",
    "        x = x.squeeze(1)  # (batch_size, 28, 28)\n",
    "        \n",
    "        # Step 1: Apply FC to height (H) dimension\n",
    "        x = x.permute(0, 2, 1)  # Swap H and W (batch_size, W, H)\n",
    "        x = torch.relu(self.fc_h1(x))  # Apply FC on height\n",
    "        x = x.permute(0, 2, 1)  # Swap back (batch_size, H, W=16)\n",
    "\n",
    "        # Step 2: Apply FC to width (W) dimension\n",
    "        x = torch.relu(self.fc_w1(x))  # Apply FC on width (batch_size, H=16, W=16)\n",
    "        \n",
    "        # Step 3: Apply FC to height again\n",
    "        x = x.permute(0, 2, 1)  # Swap H and W (batch_size, W, H=16)\n",
    "        x = torch.relu(self.fc_h2(x))  # Apply FC on height (batch_size, W, H=8)\n",
    "        x = x.permute(0, 2, 1)  # Swap back (batch_size, H=8, W=16)\n",
    "\n",
    "        # Step 4: Apply FC to width again\n",
    "        x = torch.relu(self.fc_w2(x))  # Apply FC on width (batch_size, H=8, W=8)\n",
    "\n",
    "        # Flatten and final classification\n",
    "        x = x.view(x.size(0), -1)  # Flatten (batch_size, 8*8)\n",
    "        x = self.final_fc(x)  # Classification layer (batch_size, 10)\n",
    "\n",
    "        return x\n"
   ]
  },
  {
   "cell_type": "code",
   "execution_count": 3,
   "metadata": {},
   "outputs": [],
   "source": [
    "# Load the MNIST dataset\n",
    "transform = transforms.Compose([\n",
    "    transforms.ToTensor(),\n",
    "    transforms.Normalize((0.5,), (0.5,))\n",
    "])\n",
    "\n",
    "train_dataset = torchvision.datasets.MNIST(root='./data', train=True, download=True, transform=transform)\n",
    "test_dataset = torchvision.datasets.MNIST(root='./data', train=False, download=True, transform=transform)\n",
    "\n",
    "train_loader = DataLoader(train_dataset, batch_size=64, shuffle=True)\n",
    "test_loader = DataLoader(test_dataset, batch_size=64, shuffle=False)"
   ]
  },
  {
   "cell_type": "code",
   "execution_count": 4,
   "metadata": {},
   "outputs": [],
   "source": [
    "# Initialize model, loss function, and optimizer\n",
    "device = torch.device(\"cuda\" if torch.cuda.is_available() else \"cpu\")\n",
    "model = OrthogonalMLP().to(device)\n",
    "criterion = nn.CrossEntropyLoss()\n",
    "optimizer = optim.Adam(model.parameters(), lr=0.001)"
   ]
  },
  {
   "cell_type": "code",
   "execution_count": 5,
   "metadata": {},
   "outputs": [],
   "source": [
    "# Training the model\n",
    "num_epochs = 30"
   ]
  },
  {
   "cell_type": "code",
   "execution_count": 6,
   "metadata": {},
   "outputs": [
    {
     "name": "stdout",
     "output_type": "stream",
     "text": [
      "Epoch 1, Loss: 0.7666\n",
      "Epoch 2, Loss: 0.3514\n",
      "Epoch 3, Loss: 0.2776\n",
      "Epoch 4, Loss: 0.2405\n",
      "Epoch 5, Loss: 0.2148\n",
      "Epoch 6, Loss: 0.1963\n",
      "Epoch 7, Loss: 0.1815\n",
      "Epoch 8, Loss: 0.1705\n",
      "Epoch 9, Loss: 0.1621\n",
      "Epoch 10, Loss: 0.1532\n",
      "Epoch 11, Loss: 0.1476\n",
      "Epoch 12, Loss: 0.1394\n",
      "Epoch 13, Loss: 0.1358\n",
      "Epoch 14, Loss: 0.1307\n",
      "Epoch 15, Loss: 0.1274\n",
      "Epoch 16, Loss: 0.1247\n",
      "Epoch 17, Loss: 0.1215\n",
      "Epoch 18, Loss: 0.1190\n",
      "Epoch 19, Loss: 0.1166\n",
      "Epoch 20, Loss: 0.1139\n",
      "Epoch 21, Loss: 0.1127\n",
      "Epoch 22, Loss: 0.1107\n",
      "Epoch 23, Loss: 0.1088\n",
      "Epoch 24, Loss: 0.1070\n",
      "Epoch 25, Loss: 0.1056\n",
      "Epoch 26, Loss: 0.1045\n",
      "Epoch 27, Loss: 0.1018\n",
      "Epoch 28, Loss: 0.1019\n",
      "Epoch 29, Loss: 0.1001\n",
      "Epoch 30, Loss: 0.1001\n"
     ]
    }
   ],
   "source": [
    "for epoch in range(num_epochs):\n",
    "    model.train()\n",
    "    running_loss = 0.0\n",
    "    for images, labels in train_loader:\n",
    "        images, labels = images.to(device), labels.to(device)\n",
    "\n",
    "        optimizer.zero_grad()\n",
    "        outputs = model(images)\n",
    "        loss = criterion(outputs, labels)\n",
    "        loss.backward()\n",
    "        optimizer.step()\n",
    "\n",
    "        running_loss += loss.item()\n",
    "    \n",
    "    print(f\"Epoch {epoch+1}, Loss: {running_loss/len(train_loader):.4f}\")\n"
   ]
  },
  {
   "cell_type": "code",
   "execution_count": 7,
   "metadata": {},
   "outputs": [],
   "source": [
    "# Evaluate the model\n",
    "model.eval()\n",
    "correct = 0\n",
    "total = 0\n",
    "with torch.no_grad():\n",
    "    for images, labels in test_loader:\n",
    "        images, labels = images.to(device), labels.to(device)\n",
    "        outputs = model(images)\n",
    "        _, predicted = torch.max(outputs, 1)\n",
    "        total += labels.size(0)\n",
    "        correct += (predicted == labels).sum().item()"
   ]
  },
  {
   "cell_type": "code",
   "execution_count": 8,
   "metadata": {},
   "outputs": [
    {
     "name": "stdout",
     "output_type": "stream",
     "text": [
      "Test Accuracy: 96.73%\n",
      "Model saved successfully.\n"
     ]
    }
   ],
   "source": [
    "print(f\"Test Accuracy: {100 * correct / total:.2f}%\")\n",
    "\n",
    "# Save the trained model\n",
    "torch.save(model.state_dict(), 'custom_mnist_model.pth')\n",
    "print(\"Model saved successfully.\")"
   ]
  },
  {
   "cell_type": "code",
   "execution_count": null,
   "metadata": {},
   "outputs": [],
   "source": []
  }
 ],
 "metadata": {
  "kernelspec": {
   "display_name": "mmve",
   "language": "python",
   "name": "python3"
  },
  "language_info": {
   "codemirror_mode": {
    "name": "ipython",
    "version": 3
   },
   "file_extension": ".py",
   "mimetype": "text/x-python",
   "name": "python",
   "nbconvert_exporter": "python",
   "pygments_lexer": "ipython3",
   "version": "3.11.10"
  }
 },
 "nbformat": 4,
 "nbformat_minor": 2
}
