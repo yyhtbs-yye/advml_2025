{
 "cells": [
  {
   "cell_type": "code",
   "execution_count": 1,
   "metadata": {},
   "outputs": [],
   "source": [
    "import torch\n",
    "import torch.nn as nn\n",
    "import torch.optim as optim\n",
    "import torchvision\n",
    "import torchvision.transforms as transforms\n",
    "from torch.utils.data import DataLoader"
   ]
  },
  {
   "cell_type": "code",
   "execution_count": 2,
   "metadata": {},
   "outputs": [],
   "source": [
    "# Define the neural network\n",
    "class TwistedMNISTModel(nn.Module):\n",
    "    def __init__(self):\n",
    "        super(TwistedMNISTModel, self).__init__()\n",
    "        \n",
    "        # First path (main)\n",
    "        self.fc1 = nn.Linear(784, 64)\n",
    "        self.fc2 = nn.Linear(64, 32)\n",
    "\n",
    "        # Second path (skip connection)\n",
    "        self.skip_fc1 = nn.Linear(784, 32)\n",
    "\n",
    "        # Processing after concatenation\n",
    "        self.concat_fc = nn.Linear(64, 128)\n",
    "        self.skip_fc2 = nn.Linear(32, 128)\n",
    "\n",
    "        # Final output layer\n",
    "        self.final_fc = nn.Linear(128, 10)\n",
    "\n",
    "    def forward(self, x):\n",
    "        x = x.view(x.size(0), -1)  # Flatten the input (28x28 -> 784)\n",
    "\n",
    "        # First path (main)\n",
    "        z = torch.relu(self.fc1(x))\n",
    "        h = torch.relu(self.fc2(z))\n",
    "\n",
    "        # Second path (skip connection)\n",
    "        u = torch.relu(self.skip_fc1(x))\n",
    "\n",
    "        # Concatenation\n",
    "        q = torch.cat((h, u), dim=1)\n",
    "\n",
    "        # Processing concatenated output\n",
    "        v = torch.relu(self.concat_fc(q))\n",
    "\n",
    "        # Further processing of skip connection\n",
    "        k = torch.relu(self.skip_fc2(u))\n",
    "\n",
    "        # Add the processed outputs\n",
    "        d = v + k\n",
    "\n",
    "        # Final output layer\n",
    "        hat_y = self.final_fc(d)\n",
    "        \n",
    "        return hat_y"
   ]
  },
  {
   "cell_type": "code",
   "execution_count": 3,
   "metadata": {},
   "outputs": [],
   "source": [
    "# Load the MNIST dataset\n",
    "transform = transforms.Compose([\n",
    "    transforms.ToTensor(),\n",
    "    transforms.Normalize((0.5,), (0.5,))\n",
    "])\n",
    "\n",
    "train_dataset = torchvision.datasets.MNIST(root='./data', train=True, download=True, transform=transform)\n",
    "test_dataset = torchvision.datasets.MNIST(root='./data', train=False, download=True, transform=transform)\n",
    "\n",
    "train_loader = DataLoader(train_dataset, batch_size=64, shuffle=True)\n",
    "test_loader = DataLoader(test_dataset, batch_size=64, shuffle=False)"
   ]
  },
  {
   "cell_type": "code",
   "execution_count": 4,
   "metadata": {},
   "outputs": [],
   "source": [
    "# Initialize model, loss function, and optimizer\n",
    "device = torch.device(\"cuda\" if torch.cuda.is_available() else \"cpu\")\n",
    "model = TwistedMNISTModel().to(device)\n",
    "criterion = nn.CrossEntropyLoss()\n",
    "optimizer = optim.Adam(model.parameters(), lr=0.001)"
   ]
  },
  {
   "cell_type": "code",
   "execution_count": 5,
   "metadata": {},
   "outputs": [],
   "source": [
    "# Training the model\n",
    "num_epochs = 30"
   ]
  },
  {
   "cell_type": "code",
   "execution_count": 6,
   "metadata": {},
   "outputs": [
    {
     "name": "stdout",
     "output_type": "stream",
     "text": [
      "Epoch 1, Loss: 0.3796\n",
      "Epoch 2, Loss: 0.1784\n",
      "Epoch 3, Loss: 0.1344\n",
      "Epoch 4, Loss: 0.1131\n",
      "Epoch 5, Loss: 0.0971\n",
      "Epoch 6, Loss: 0.0844\n",
      "Epoch 7, Loss: 0.0772\n",
      "Epoch 8, Loss: 0.0697\n",
      "Epoch 9, Loss: 0.0626\n",
      "Epoch 10, Loss: 0.0587\n",
      "Epoch 11, Loss: 0.0542\n",
      "Epoch 12, Loss: 0.0485\n",
      "Epoch 13, Loss: 0.0468\n",
      "Epoch 14, Loss: 0.0448\n",
      "Epoch 15, Loss: 0.0425\n",
      "Epoch 16, Loss: 0.0382\n",
      "Epoch 17, Loss: 0.0364\n",
      "Epoch 18, Loss: 0.0363\n",
      "Epoch 19, Loss: 0.0322\n",
      "Epoch 20, Loss: 0.0329\n",
      "Epoch 21, Loss: 0.0302\n",
      "Epoch 22, Loss: 0.0287\n",
      "Epoch 23, Loss: 0.0288\n",
      "Epoch 24, Loss: 0.0240\n",
      "Epoch 25, Loss: 0.0282\n",
      "Epoch 26, Loss: 0.0276\n",
      "Epoch 27, Loss: 0.0248\n",
      "Epoch 28, Loss: 0.0191\n",
      "Epoch 29, Loss: 0.0253\n",
      "Epoch 30, Loss: 0.0226\n"
     ]
    }
   ],
   "source": [
    "for epoch in range(num_epochs):\n",
    "    model.train()\n",
    "    running_loss = 0.0\n",
    "    for images, labels in train_loader:\n",
    "        images, labels = images.to(device), labels.to(device)\n",
    "\n",
    "        optimizer.zero_grad()\n",
    "        outputs = model(images)\n",
    "        loss = criterion(outputs, labels)\n",
    "        loss.backward()\n",
    "        optimizer.step()\n",
    "\n",
    "        running_loss += loss.item()\n",
    "    \n",
    "    print(f\"Epoch {epoch+1}, Loss: {running_loss/len(train_loader):.4f}\")\n"
   ]
  },
  {
   "cell_type": "code",
   "execution_count": 7,
   "metadata": {},
   "outputs": [],
   "source": [
    "# Evaluate the model\n",
    "model.eval()\n",
    "correct = 0\n",
    "total = 0\n",
    "with torch.no_grad():\n",
    "    for images, labels in test_loader:\n",
    "        images, labels = images.to(device), labels.to(device)\n",
    "        outputs = model(images)\n",
    "        _, predicted = torch.max(outputs, 1)\n",
    "        total += labels.size(0)\n",
    "        correct += (predicted == labels).sum().item()"
   ]
  },
  {
   "cell_type": "code",
   "execution_count": 8,
   "metadata": {},
   "outputs": [
    {
     "name": "stdout",
     "output_type": "stream",
     "text": [
      "Test Accuracy: 97.22%\n",
      "Model saved successfully.\n"
     ]
    }
   ],
   "source": [
    "print(f\"Test Accuracy: {100 * correct / total:.2f}%\")\n",
    "\n",
    "# Save the trained model\n",
    "torch.save(model.state_dict(), 'custom_mnist_model.pth')\n",
    "print(\"Model saved successfully.\")"
   ]
  },
  {
   "cell_type": "code",
   "execution_count": null,
   "metadata": {},
   "outputs": [],
   "source": []
  }
 ],
 "metadata": {
  "kernelspec": {
   "display_name": "mmve",
   "language": "python",
   "name": "python3"
  },
  "language_info": {
   "codemirror_mode": {
    "name": "ipython",
    "version": 3
   },
   "file_extension": ".py",
   "mimetype": "text/x-python",
   "name": "python",
   "nbconvert_exporter": "python",
   "pygments_lexer": "ipython3",
   "version": "3.11.10"
  }
 },
 "nbformat": 4,
 "nbformat_minor": 2
}
