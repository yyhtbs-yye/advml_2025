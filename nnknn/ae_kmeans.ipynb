{
 "cells": [
  {
   "cell_type": "code",
   "execution_count": 1,
   "metadata": {},
   "outputs": [],
   "source": [
    "import torch\n",
    "import torch.nn as nn\n",
    "import torch.nn.functional as F\n",
    "import torch.optim as optim\n",
    "from torch.utils.data import DataLoader\n",
    "from torchvision import datasets, transforms"
   ]
  },
  {
   "cell_type": "code",
   "execution_count": 2,
   "metadata": {},
   "outputs": [],
   "source": [
    "class AutoEncoder(nn.Module):\n",
    "    def __init__(self, latent_dim=64):\n",
    "        super(AutoEncoder, self).__init__()\n",
    "        # Encoder: Convolutional layers to capture image features\n",
    "        self.encoder = nn.Sequential(\n",
    "            nn.Conv2d(1, 32, kernel_size=3, stride=2, padding=1),\n",
    "            nn.LeakyReLU(),\n",
    "            nn.Conv2d(32, 64, kernel_size=3, stride=2, padding=1),\n",
    "            nn.LeakyReLU(),\n",
    "            nn.Flatten(),\n",
    "            nn.Linear(64 * 7 * 7, latent_dim)\n",
    "        )\n",
    "        # Decoder: Reconstruct the image from the latent representation\n",
    "        self.decoder = nn.Sequential(\n",
    "            nn.Linear(latent_dim, 64 * 7 * 7),\n",
    "            nn.LeakyReLU(),\n",
    "            nn.Unflatten(1, (64, 7, 7)),\n",
    "            nn.ConvTranspose2d(64, 32, kernel_size=3, stride=2, padding=1, output_padding=1),\n",
    "            nn.LeakyReLU(),\n",
    "            nn.ConvTranspose2d(32, 1, kernel_size=3, stride=2, padding=1, output_padding=1),\n",
    "            nn.Sigmoid()\n",
    "        )\n",
    "\n",
    "    def forward(self, x):\n",
    "        z = self.encoder(x)\n",
    "        x_recon = self.decoder(z)\n",
    "        return x_recon, z"
   ]
  },
  {
   "cell_type": "code",
   "execution_count": 3,
   "metadata": {},
   "outputs": [
    {
     "name": "stdout",
     "output_type": "stream",
     "text": [
      "Epoch 1, Loss: 0.0280\n",
      "Epoch 2, Loss: 0.0053\n",
      "Epoch 3, Loss: 0.0037\n",
      "Epoch 4, Loss: 0.0031\n",
      "Epoch 5, Loss: 0.0028\n",
      "Epoch 6, Loss: 0.0025\n",
      "Epoch 7, Loss: 0.0024\n",
      "Epoch 8, Loss: 0.0023\n",
      "Epoch 9, Loss: 0.0022\n",
      "Epoch 10, Loss: 0.0021\n",
      "Epoch 11, Loss: 0.0020\n",
      "Epoch 12, Loss: 0.0020\n",
      "Epoch 13, Loss: 0.0019\n",
      "Epoch 14, Loss: 0.0019\n",
      "Epoch 15, Loss: 0.0018\n",
      "Epoch 16, Loss: 0.0018\n",
      "Epoch 17, Loss: 0.0018\n",
      "Epoch 18, Loss: 0.0017\n",
      "Epoch 19, Loss: 0.0017\n",
      "Epoch 20, Loss: 0.0017\n"
     ]
    }
   ],
   "source": [
    "# Data preparation\n",
    "transform = transforms.ToTensor()\n",
    "mnist_train = datasets.MNIST(root='./data', train=True, download=True, transform=transform)\n",
    "train_loader = DataLoader(mnist_train, batch_size=128, shuffle=True)\n",
    "# Load the MNIST test set\n",
    "mnist_test = datasets.MNIST(root='./data', train=False, download=True, transform=transform)\n",
    "test_loader = DataLoader(mnist_test, batch_size=256, shuffle=False)\n",
    "\n",
    "device = torch.device(\"cuda\" if torch.cuda.is_available() else \"cpu\")\n",
    "model = AutoEncoder(latent_dim=64).to(device)\n",
    "criterion = nn.MSELoss()\n",
    "optimizer = optim.Adam(model.parameters(), lr=1e-3)\n",
    "num_epochs = 20\n",
    "\n",
    "for epoch in range(num_epochs):\n",
    "    model.train()\n",
    "    total_loss = 0\n",
    "    for imgs, _ in train_loader:\n",
    "        imgs = imgs.to(device)\n",
    "        optimizer.zero_grad()\n",
    "        recon_imgs, _ = model(imgs)\n",
    "        loss = criterion(recon_imgs, imgs)\n",
    "        loss.backward()\n",
    "        optimizer.step()\n",
    "        total_loss += loss.item()\n",
    "    print(f\"Epoch {epoch+1}, Loss: {total_loss/len(train_loader):.4f}\")"
   ]
  },
  {
   "cell_type": "code",
   "execution_count": 4,
   "metadata": {},
   "outputs": [],
   "source": [
    "from sklearn.cluster import KMeans\n",
    "import numpy as np"
   ]
  },
  {
   "cell_type": "code",
   "execution_count": 9,
   "metadata": {},
   "outputs": [],
   "source": [
    "# Generate latent embeddings for the entire dataset\n",
    "model.eval()\n",
    "latent_vectors = []\n",
    "labels = []\n",
    "with torch.no_grad():\n",
    "    for imgs, lbl in DataLoader(mnist_train, batch_size=256, shuffle=False):\n",
    "        imgs = imgs.to(device)\n",
    "        _, z = model(imgs)\n",
    "        latent_vectors.append(z.cpu().numpy())\n",
    "        labels.extend(lbl.numpy())"
   ]
  },
  {
   "cell_type": "code",
   "execution_count": null,
   "metadata": {},
   "outputs": [],
   "source": [
    "latent_vectors = np.concatenate(latent_vectors, axis=0)"
   ]
  },
  {
   "cell_type": "code",
   "execution_count": null,
   "metadata": {},
   "outputs": [
    {
     "name": "stdout",
     "output_type": "stream",
     "text": [
      "Adjusted Rand Index: 0.2315\n"
     ]
    }
   ],
   "source": [
    "# Apply K-means clustering in the latent space\n",
    "kmeans = KMeans(n_clusters=50, random_state=42)\n",
    "cluster_labels = kmeans.fit_predict(latent_vectors)"
   ]
  },
  {
   "cell_type": "code",
   "execution_count": 13,
   "metadata": {},
   "outputs": [
    {
     "name": "stdout",
     "output_type": "stream",
     "text": [
      "Training Classification Accuracy: 0.8448\n",
      "Testing Classification Accuracy: 0.8516\n"
     ]
    }
   ],
   "source": [
    "from collections import defaultdict, Counter\n",
    "import numpy as np\n",
    "\n",
    "# --- Step 1: Create a mapping from each cluster to its majority class label ---\n",
    "cluster_label_count = defaultdict(list)\n",
    "for cl, true_label in zip(cluster_labels, labels):\n",
    "    cluster_label_count[cl].append(true_label)\n",
    "\n",
    "cluster_to_label = {}\n",
    "for cl, lbls in cluster_label_count.items():\n",
    "    most_common_label, count = Counter(lbls).most_common(1)[0]\n",
    "    cluster_to_label[cl] = most_common_label\n",
    "\n",
    "# --- Step 2: Evaluate classification accuracy on the training set ---\n",
    "train_preds = [cluster_to_label[cl] for cl in cluster_labels]\n",
    "train_accuracy = np.mean(np.array(train_preds) == np.array(labels))\n",
    "print(\"Training Classification Accuracy: {:.4f}\".format(train_accuracy))\n",
    "\n",
    "test_latent_vectors = []\n",
    "test_labels = []\n",
    "model.eval()  # Set model to evaluation mode\n",
    "\n",
    "with torch.no_grad():\n",
    "    for imgs, lbl in test_loader:\n",
    "        imgs = imgs.to(device)\n",
    "        _, z = model(imgs)\n",
    "        test_latent_vectors.append(z.cpu().numpy())\n",
    "        test_labels.extend(lbl.numpy())\n",
    "\n",
    "test_latent_vectors = np.concatenate(test_latent_vectors, axis=0)\n",
    "# Use the trained KMeans model to predict clusters for the test set\n",
    "test_cluster_labels = kmeans.predict(test_latent_vectors)\n",
    "\n",
    "# Map each test cluster to the assigned majority vote label\n",
    "test_preds = [cluster_to_label[cl] for cl in test_cluster_labels]\n",
    "test_accuracy = np.mean(np.array(test_preds) == np.array(test_labels))\n",
    "print(\"Testing Classification Accuracy: {:.4f}\".format(test_accuracy))"
   ]
  },
  {
   "cell_type": "code",
   "execution_count": null,
   "metadata": {},
   "outputs": [],
   "source": []
  },
  {
   "cell_type": "code",
   "execution_count": null,
   "metadata": {},
   "outputs": [],
   "source": []
  }
 ],
 "metadata": {
  "kernelspec": {
   "display_name": "basicsr",
   "language": "python",
   "name": "python3"
  },
  "language_info": {
   "codemirror_mode": {
    "name": "ipython",
    "version": 3
   },
   "file_extension": ".py",
   "mimetype": "text/x-python",
   "name": "python",
   "nbconvert_exporter": "python",
   "pygments_lexer": "ipython3",
   "version": "3.11.11"
  }
 },
 "nbformat": 4,
 "nbformat_minor": 2
}
