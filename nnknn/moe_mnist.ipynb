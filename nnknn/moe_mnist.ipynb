{
 "cells": [
  {
   "cell_type": "code",
   "execution_count": 1,
   "metadata": {},
   "outputs": [],
   "source": [
    "import torch\n",
    "import torch.nn as nn\n",
    "import torch.nn.functional as F\n",
    "from torchvision import datasets, transforms\n",
    "from torch.utils.data import DataLoader"
   ]
  },
  {
   "cell_type": "code",
   "execution_count": 2,
   "metadata": {},
   "outputs": [],
   "source": [
    "# Define a CNN that will serve as one expert.\n",
    "class ExpertCNN(nn.Module):\n",
    "    def __init__(self, in_channels=16, num_classes=10):\n",
    "        super(ExpertCNN, self).__init__()\n",
    "        # Two convolutional layers with ReLU activations.\n",
    "        self.conv1 = nn.Conv2d(in_channels, in_channels*2, kernel_size=3, padding=1)  # 1x28x28 -> 32x28x28\n",
    "        self.conv2 = nn.Conv2d(in_channels*2, in_channels, kernel_size=3, padding=1) # 32x28x28 -> 64x28x28\n",
    "        self.pool = nn.MaxPool2d(2, 2)                           # Downsample: 64x28x28 -> 64x14x14\n",
    "        self.feature_dim = in_channels * 14 * 14\n",
    "        # Final linear layer to output logits.\n",
    "        self.fc = nn.Linear(self.feature_dim, num_classes)\n",
    "\n",
    "    def forward(self, x):\n",
    "        x = F.relu(self.conv1(x))\n",
    "        x = self.pool(x)\n",
    "        x = F.relu(self.conv2(x))\n",
    "        x = x.view(x.size(0), -1)  # Flatten the feature maps.\n",
    "        x = self.fc(x)\n",
    "        return x"
   ]
  },
  {
   "cell_type": "code",
   "execution_count": 3,
   "metadata": {},
   "outputs": [],
   "source": [
    "# Define a CNN-MoE with multiple CNN experts.\n",
    "class CNNMoE(nn.Module):\n",
    "    def __init__(self, in_channels=1, num_experts=3, num_classes=10, top_k=1):\n",
    "        super(CNNMoE, self).__init__()\n",
    "        self.conv1 = nn.Conv2d(in_channels, 32, kernel_size=3, padding=1)\n",
    "        self.num_experts = num_experts\n",
    "        self.top_k = top_k\n",
    "        # Create a ModuleList of CNN experts.\n",
    "        self.experts = nn.ModuleList([ExpertCNN(in_channels=32, num_classes=num_classes)\n",
    "                                      for _ in range(num_experts)])\n",
    "        # A simple gating network that processes the input image and outputs weights.\n",
    "        # Here we flatten the image and use a couple of linear layers.\n",
    "        self.gate = nn.Sequential(\n",
    "            nn.Flatten(),\n",
    "            nn.Linear(28 * 28, 128),\n",
    "            nn.ReLU(),\n",
    "            nn.Linear(128, num_experts)\n",
    "        )\n",
    "\n",
    "    def forward(self, x):\n",
    "        # Compute gate logits and apply softmax to get probabilities.\n",
    "        gate_logits = self.gate(x)           # Shape: [batch_size, num_experts]\n",
    "        gate_probs = F.softmax(gate_logits, dim=1)\n",
    "        \n",
    "        # Top-k gating: select only the top k experts per sample.\n",
    "        topk_values, topk_indices = torch.topk(gate_probs, self.top_k, dim=1)\n",
    "        mask = torch.zeros_like(gate_probs)\n",
    "        mask.scatter_(1, topk_indices, 1.0)\n",
    "        sparse_gate = gate_probs * mask\n",
    "        # Renormalize so that the selected experts sum to 1.\n",
    "        sparse_gate = sparse_gate / (sparse_gate.sum(dim=1, keepdim=True) + 1e-8)\n",
    "        sparse_gate = sparse_gate.unsqueeze(2)  # Shape: [batch_size, num_experts, 1]\n",
    "\n",
    "        x = self.conv1(x)\n",
    "        # Each expert produces a prediction.\n",
    "        expert_outputs = [expert(x) for expert in self.experts]  # Each: [batch_size, num_classes]\n",
    "        expert_outputs = torch.stack(expert_outputs, dim=1)        # Shape: [batch_size, num_experts, num_classes]\n",
    "\n",
    "        # Weighted sum of experts' outputs.\n",
    "        output = torch.sum(expert_outputs * sparse_gate, dim=1)     # Shape: [batch_size, num_classes]\n",
    "        return output, sparse_gate\n"
   ]
  },
  {
   "cell_type": "code",
   "execution_count": 4,
   "metadata": {},
   "outputs": [],
   "source": [
    "# Data Augmentation\n",
    "transform = transforms.Compose([\n",
    "    transforms.ToTensor(),\n",
    "    transforms.Normalize((0.1307,), (0.3081,))\n",
    "])\n",
    "\n",
    "train_dataset = datasets.MNIST(root='./data', train=True, download=True, transform=transform)\n",
    "test_dataset = datasets.MNIST(root='./data', train=False, download=True, transform=transform)\n",
    "\n",
    "train_loader = DataLoader(train_dataset, batch_size=128, shuffle=True)\n",
    "test_loader = DataLoader(test_dataset, batch_size=1, shuffle=False)"
   ]
  },
  {
   "cell_type": "code",
   "execution_count": 5,
   "metadata": {},
   "outputs": [],
   "source": [
    "device = torch.device(\"cuda:6\" if torch.cuda.is_available() else \"cpu\")\n",
    "model = CNNMoE(num_experts=3, num_classes=10).to(device)\n",
    "criterion = nn.CrossEntropyLoss()\n",
    "optimizer = torch.optim.Adam(model.parameters(), lr=0.001)"
   ]
  },
  {
   "cell_type": "code",
   "execution_count": 6,
   "metadata": {},
   "outputs": [
    {
     "name": "stdout",
     "output_type": "stream",
     "text": [
      "Epoch 1, Loss: 0.1623\n",
      "Epoch 2, Loss: 0.0471\n",
      "Epoch 3, Loss: 0.0310\n",
      "Epoch 4, Loss: 0.0258\n",
      "Epoch 5, Loss: 0.0195\n",
      "Epoch 6, Loss: 0.0144\n",
      "Epoch 7, Loss: 0.0137\n",
      "Epoch 8, Loss: 0.0112\n",
      "Epoch 9, Loss: 0.0129\n",
      "Epoch 10, Loss: 0.0144\n"
     ]
    }
   ],
   "source": [
    "model.train()\n",
    "for epoch in range(10):\n",
    "    total_loss = 0.0\n",
    "    for data, target in train_loader:\n",
    "        data, target = data.to(device), target.to(device)\n",
    "        optimizer.zero_grad()\n",
    "        output, _ = model(data)\n",
    "        loss = criterion(output, target)\n",
    "        loss.backward()\n",
    "        optimizer.step()\n",
    "        total_loss += loss.item()\n",
    "    print(f\"Epoch {epoch+1}, Loss: {total_loss/len(train_loader):.4f}\")"
   ]
  },
  {
   "cell_type": "code",
   "execution_count": 7,
   "metadata": {},
   "outputs": [
    {
     "name": "stdout",
     "output_type": "stream",
     "text": [
      "\n",
      "Test set: Average loss: 0.0476, Accuracy: 9890/10000 (99%)\n",
      "\n"
     ]
    }
   ],
   "source": [
    "model.eval()\n",
    "test_loss = 0\n",
    "correct = 0\n",
    "with torch.no_grad():\n",
    "    for data, target in test_loader:\n",
    "        data, target = data.to(device), target.to(device)\n",
    "        output, gate = model(data)\n",
    "        test_loss += F.cross_entropy(output, target, reduction='sum').item()\n",
    "        pred = output.argmax(dim=1, keepdim=True)\n",
    "        correct += pred.eq(target.view_as(pred)).sum().item()\n",
    "\n",
    "test_loss /= len(test_loader.dataset)\n",
    "print(f'\\nTest set: Average loss: {test_loss:.4f}, '\n",
    "        f'Accuracy: {correct}/{len(test_loader.dataset)} '\n",
    "        f'({100. * correct / len(test_loader.dataset):.0f}%)\\n')\n"
   ]
  },
  {
   "cell_type": "code",
   "execution_count": null,
   "metadata": {},
   "outputs": [],
   "source": []
  },
  {
   "cell_type": "code",
   "execution_count": null,
   "metadata": {},
   "outputs": [],
   "source": []
  }
 ],
 "metadata": {
  "kernelspec": {
   "display_name": "basicsr",
   "language": "python",
   "name": "python3"
  },
  "language_info": {
   "codemirror_mode": {
    "name": "ipython",
    "version": 3
   },
   "file_extension": ".py",
   "mimetype": "text/x-python",
   "name": "python",
   "nbconvert_exporter": "python",
   "pygments_lexer": "ipython3",
   "version": "3.11.11"
  }
 },
 "nbformat": 4,
 "nbformat_minor": 2
}
