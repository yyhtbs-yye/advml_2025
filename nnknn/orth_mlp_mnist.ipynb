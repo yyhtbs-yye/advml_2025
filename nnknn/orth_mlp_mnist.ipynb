{
 "cells": [
  {
   "cell_type": "code",
   "execution_count": 2,
   "metadata": {},
   "outputs": [],
   "source": [
    "import torch\n",
    "import torch.nn as nn\n",
    "import torch.nn.functional as F\n",
    "\n",
    "import torchvision \n",
    "import torchvision.transforms as transforms\n",
    "from torch.utils.data import DataLoader"
   ]
  },
  {
   "cell_type": "code",
   "execution_count": 3,
   "metadata": {},
   "outputs": [],
   "source": [
    "class FcBlock(nn.Module):\n",
    "    \"\"\"\n",
    "    Processes each row (height dimension) independently.\n",
    "    Input shape: (B, H, W)\n",
    "    Output shape: (B, reduced_dim, W)\n",
    "    \"\"\"\n",
    "    def __init__(self, in_dim, out_dim):\n",
    "        super(FcBlock, self).__init__()\n",
    "        self.linear = nn.Linear(in_dim, out_dim)\n",
    "        self.activation = nn.LeakyReLU()\n",
    "        \n",
    "    def forward(self, z):\n",
    "        h = self.linear(z)  \n",
    "        h = self.activation(h)\n",
    "        return h\n",
    "\n",
    "class TransposeFcBlock(nn.Module):\n",
    "    \"\"\"\n",
    "    Processes each column (width dimension) independently.\n",
    "    Input shape: (B, reduced_dim, W)\n",
    "    Output shape: (B, seq_output_dim, reduced_dim)\n",
    "    \"\"\"\n",
    "    def __init__(self, in_dim, out_dim):\n",
    "        super(TransposeFcBlock, self).__init__()\n",
    "        self.linear = nn.Linear(in_dim, out_dim)\n",
    "        self.activation = nn.LeakyReLU()\n",
    "    \n",
    "    def forward(self, x):\n",
    "        # x: (B, H, W)\n",
    "        x = x.permute(0, 2, 1)  # (B, W, H)\n",
    "        z = self.linear(x)  # (B, W, reduced_dim)\n",
    "        z = self.activation(z)\n",
    "        return z.permute(0, 2, 1)  # (B, reduced_dim, W)"
   ]
  },
  {
   "cell_type": "code",
   "execution_count": 6,
   "metadata": {},
   "outputs": [],
   "source": [
    "class OrthogonalMLP(nn.Module):\n",
    "    \"\"\"\n",
    "    Combines Horizontal and Vertical MLPs for MNIST processing.\n",
    "    \"\"\"\n",
    "    def __init__(self, in_height, in_width):\n",
    "        super(OrthogonalMLP, self).__init__()\n",
    "        self.fc1 = FcBlock(in_width, 16)\n",
    "        self.tfc1 = TransposeFcBlock(in_height, 16)\n",
    "        self.fc2 = FcBlock(16, 4)\n",
    "        self.tfc2 = TransposeFcBlock(16, 4)\n",
    "        self.ofc = nn.LazyLinear(10)\n",
    "    \n",
    "    def forward(self, x):\n",
    "        # x: (B, H, W)\n",
    "        z = self.tfc1(self.fc1(x))\n",
    "        z = self.tfc2(self.fc2(z))\n",
    "        hat_y = self.ofc(z.flatten(1))\n",
    "        return hat_y"
   ]
  },
  {
   "cell_type": "code",
   "execution_count": 8,
   "metadata": {},
   "outputs": [
    {
     "name": "stdout",
     "output_type": "stream",
     "text": [
      "Epoch 1/30, Loss: 0.9378, Accuracy: 0.6791\n",
      "Epoch 2/30, Loss: 0.3953, Accuracy: 0.8821\n",
      "Epoch 3/30, Loss: 0.2898, Accuracy: 0.9135\n",
      "Epoch 4/30, Loss: 0.2427, Accuracy: 0.9276\n",
      "Epoch 5/30, Loss: 0.2189, Accuracy: 0.9345\n",
      "Epoch 6/30, Loss: 0.2042, Accuracy: 0.9394\n",
      "Epoch 7/30, Loss: 0.1934, Accuracy: 0.9417\n",
      "Epoch 8/30, Loss: 0.1838, Accuracy: 0.9443\n",
      "Epoch 9/30, Loss: 0.1768, Accuracy: 0.9465\n",
      "Epoch 10/30, Loss: 0.1720, Accuracy: 0.9480\n",
      "Epoch 11/30, Loss: 0.1672, Accuracy: 0.9495\n",
      "Epoch 12/30, Loss: 0.1624, Accuracy: 0.9514\n",
      "Epoch 13/30, Loss: 0.1580, Accuracy: 0.9519\n",
      "Epoch 14/30, Loss: 0.1557, Accuracy: 0.9531\n",
      "Epoch 15/30, Loss: 0.1525, Accuracy: 0.9539\n",
      "Epoch 16/30, Loss: 0.1487, Accuracy: 0.9546\n",
      "Epoch 17/30, Loss: 0.1465, Accuracy: 0.9559\n",
      "Epoch 18/30, Loss: 0.1448, Accuracy: 0.9551\n",
      "Epoch 19/30, Loss: 0.1423, Accuracy: 0.9565\n",
      "Epoch 20/30, Loss: 0.1410, Accuracy: 0.9570\n",
      "Epoch 21/30, Loss: 0.1392, Accuracy: 0.9580\n",
      "Epoch 22/30, Loss: 0.1378, Accuracy: 0.9584\n",
      "Epoch 23/30, Loss: 0.1354, Accuracy: 0.9579\n",
      "Epoch 24/30, Loss: 0.1341, Accuracy: 0.9589\n",
      "Epoch 25/30, Loss: 0.1326, Accuracy: 0.9601\n",
      "Epoch 26/30, Loss: 0.1314, Accuracy: 0.9597\n",
      "Epoch 27/30, Loss: 0.1306, Accuracy: 0.9604\n",
      "Epoch 28/30, Loss: 0.1290, Accuracy: 0.9607\n",
      "Epoch 29/30, Loss: 0.1288, Accuracy: 0.9604\n",
      "Epoch 30/30, Loss: 0.1265, Accuracy: 0.9617\n"
     ]
    }
   ],
   "source": [
    "device = torch.device(\"cuda\" if torch.cuda.is_available() else \"cpu\")\n",
    "B = 64  # Batch size\n",
    "H, W = 28, 28  # MNIST image dimensions\n",
    "reduced_dim = 16  # Reduced row dimension\n",
    "seq_output_dim = 10  # Final output dimension (for classification)\n",
    "lr = 0.001\n",
    "epochs = 30\n",
    "\n",
    "transform = transforms.Compose([\n",
    "    transforms.ToTensor(),\n",
    "    transforms.Normalize((0.1307,), (0.3081,))\n",
    "])\n",
    "\n",
    "train_dataset = torchvision.datasets.MNIST(root='./data', train=True, transform=transform, download=True)\n",
    "test_dataset = torchvision.datasets.MNIST(root='./data', train=False, transform=transform, download=True)\n",
    "\n",
    "train_loader = DataLoader(train_dataset, batch_size=B, shuffle=True)\n",
    "test_loader = DataLoader(test_dataset, batch_size=B, shuffle=False)\n",
    "\n",
    "model = OrthogonalMLP(in_height=H, in_width=W).to(device)\n",
    "criterion = nn.CrossEntropyLoss()\n",
    "optimizer = torch.optim.Adam(model.parameters(), lr=lr)\n",
    "\n",
    "for epoch in range(epochs):\n",
    "    model.train()\n",
    "    total_loss = 0\n",
    "    correct = 0\n",
    "    \n",
    "    for images, labels in train_loader:\n",
    "        images, labels = images.to(device), labels.to(device)\n",
    "        images = images.squeeze(1)  # Remove channel dimension (B, 1, H, W) -> (B, H, W)\n",
    "        \n",
    "        optimizer.zero_grad()\n",
    "        outputs = model(images)\n",
    "        loss = criterion(outputs, labels)\n",
    "        loss.backward()\n",
    "        optimizer.step()\n",
    "        \n",
    "        total_loss += loss.item()\n",
    "        correct += (outputs.argmax(dim=1) == labels).sum().item()\n",
    "    \n",
    "    print(f\"Epoch {epoch+1}/{epochs}, Loss: {total_loss/len(train_loader):.4f}, Accuracy: {correct/len(train_dataset):.4f}\")\n"
   ]
  },
  {
   "cell_type": "code",
   "execution_count": null,
   "metadata": {},
   "outputs": [
    {
     "name": "stdout",
     "output_type": "stream",
     "text": [
      "Test Accuracy: 95.63%\n"
     ]
    }
   ],
   "source": [
    "model.eval()\n",
    "correct, total = 0, 0\n",
    "with torch.no_grad():\n",
    "    for inputs, targets in test_loader:\n",
    "        inputs, targets = inputs.to(device), targets.to(device)\n",
    "        inputs = inputs.squeeze(1)  # Remove channel dimension (B, 1, H, W) -> (B, H, W)\n",
    "        logits = model(inputs)\n",
    "        _, predicted = torch.max(logits, 1)\n",
    "        correct += (predicted == targets).sum().item()\n",
    "        total += targets.size(0)\n",
    "accuracy = 100 * correct / total\n",
    "\n",
    "print(f\"Test Accuracy: {accuracy:.2f}%\")"
   ]
  },
  {
   "cell_type": "code",
   "execution_count": null,
   "metadata": {},
   "outputs": [],
   "source": []
  }
 ],
 "metadata": {
  "kernelspec": {
   "display_name": "basicsr",
   "language": "python",
   "name": "python3"
  },
  "language_info": {
   "codemirror_mode": {
    "name": "ipython",
    "version": 3
   },
   "file_extension": ".py",
   "mimetype": "text/x-python",
   "name": "python",
   "nbconvert_exporter": "python",
   "pygments_lexer": "ipython3",
   "version": "3.11.11"
  }
 },
 "nbformat": 4,
 "nbformat_minor": 2
}
