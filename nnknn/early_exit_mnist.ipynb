{
 "cells": [
  {
   "cell_type": "code",
   "execution_count": 1,
   "metadata": {},
   "outputs": [],
   "source": [
    "import torch\n",
    "import torch.nn as nn\n",
    "import torch.nn.functional as F\n",
    "from torchvision import datasets, transforms\n",
    "from torch.utils.data import DataLoader"
   ]
  },
  {
   "cell_type": "code",
   "execution_count": 2,
   "metadata": {},
   "outputs": [],
   "source": [
    "class EarlyExitBlock(nn.Module): \n",
    "    def __init__(self, in_channels, num_classes):\n",
    "        super().__init__()\n",
    "        self.pool = nn.AdaptiveAvgPool2d((1, 1))\n",
    "        self.fc = nn.Linear(in_channels, num_classes)\n",
    "    \n",
    "    def forward(self, x):\n",
    "        x = self.pool(x)\n",
    "        x = x.view(x.size(0), -1)\n",
    "        logits = self.fc(x)\n",
    "        softmax_output = F.softmax(logits, dim=1)\n",
    "        confidence, _ = torch.max(softmax_output, dim=1)  # Get confidence\n",
    "        return logits, confidence"
   ]
  },
  {
   "cell_type": "code",
   "execution_count": 3,
   "metadata": {},
   "outputs": [],
   "source": [
    "# Define a CNN that will serve as one stage.\n",
    "class StageCNN(nn.Module):\n",
    "    def __init__(self, channels=16):\n",
    "        super(StageCNN, self).__init__()\n",
    "        # Two convolutional layers with ReLU activations.\n",
    "        self.conv1 = nn.Conv2d(channels, channels*2, kernel_size=3, padding=1)\n",
    "        self.conv2 = nn.Conv2d(channels*2, channels, kernel_size=3, padding=1)\n",
    "        self.pool = nn.MaxPool2d(2, 2)                          \n",
    "\n",
    "    def forward(self, x):\n",
    "        x = F.relu(self.conv1(x))\n",
    "        x = self.pool(x)\n",
    "        x = F.relu(self.conv2(x))\n",
    "        return x"
   ]
  },
  {
   "cell_type": "code",
   "execution_count": 4,
   "metadata": {},
   "outputs": [],
   "source": [
    "class EarlyExitNetwork(nn.Module):\n",
    "    def __init__(self, in_channels=1, num_classes=10):\n",
    "        super().__init__()\n",
    "        self.conv1 = nn.Conv2d(in_channels, 32, kernel_size=3, padding=1)\n",
    "        self.layer1 = StageCNN(32)\n",
    "        self.exit1 = EarlyExitBlock(32, num_classes)\n",
    "        self.layer2 = StageCNN(32)\n",
    "        self.exit2 = EarlyExitBlock(32, num_classes)\n",
    "        self.layer3 = StageCNN(32)\n",
    "        self.final_exit = EarlyExitBlock(32, num_classes)\n",
    "\n",
    "    def forward(self, x, confidence_threshold=0.7):\n",
    "        x = F.relu(self.conv1(x))\n",
    "        x = F.relu(self.layer1(x))\n",
    "        exit1_logits, exit1_conf = self.exit1(x)\n",
    "        if not self.training and exit1_conf.max().item() > confidence_threshold:\n",
    "            return exit1_logits, 1\n",
    "        \n",
    "        x = F.relu(self.layer2(x))\n",
    "        exit2_logits, exit2_conf = self.exit2(x)\n",
    "        if not self.training and exit2_conf.max().item() > confidence_threshold:\n",
    "            return exit2_logits, 2\n",
    "        \n",
    "        x = F.relu(self.layer3(x))\n",
    "        final_logits, _ = self.final_exit(x)\n",
    "        if not self.training:\n",
    "            return final_logits, 3\n",
    "        \n",
    "        return [exit1_logits, exit2_logits, final_logits], None"
   ]
  },
  {
   "cell_type": "code",
   "execution_count": 5,
   "metadata": {},
   "outputs": [],
   "source": [
    "class MultiExitLoss(nn.Module):\n",
    "    def __init__(self, weights=[0.2, 0.2, 0.6]):\n",
    "        super().__init__()\n",
    "        self.weights = weights\n",
    "        self.ce = nn.CrossEntropyLoss()\n",
    "\n",
    "    def forward(self, exits, target):\n",
    "        loss = 0.0\n",
    "        for i, exit_logits in enumerate(exits):\n",
    "            loss += self.weights[i] * self.ce(exit_logits, target)\n",
    "        return loss"
   ]
  },
  {
   "cell_type": "code",
   "execution_count": 6,
   "metadata": {},
   "outputs": [],
   "source": [
    "# Data Augmentation\n",
    "transform = transforms.Compose([\n",
    "    transforms.ToTensor(),\n",
    "    transforms.Normalize((0.1307,), (0.3081,))\n",
    "])\n",
    "\n",
    "train_dataset = datasets.MNIST(root='./data', train=True, download=True, transform=transform)\n",
    "test_dataset = datasets.MNIST(root='./data', train=False, download=True, transform=transform)\n",
    "\n",
    "train_loader = DataLoader(train_dataset, batch_size=128, shuffle=True)\n",
    "test_loader = DataLoader(test_dataset, batch_size=1, shuffle=False)"
   ]
  },
  {
   "cell_type": "code",
   "execution_count": 7,
   "metadata": {},
   "outputs": [],
   "source": [
    "device = torch.device(\"cuda:2\" if torch.cuda.is_available() else \"cpu\")\n",
    "model = EarlyExitNetwork().to(device)\n",
    "criterion = MultiExitLoss()\n",
    "optimizer = torch.optim.Adam(model.parameters(), lr=0.001)"
   ]
  },
  {
   "cell_type": "code",
   "execution_count": 10,
   "metadata": {},
   "outputs": [
    {
     "name": "stdout",
     "output_type": "stream",
     "text": [
      "Epoch 1, Loss: 0.0456\n",
      "Epoch 2, Loss: 0.0443\n",
      "Epoch 3, Loss: 0.0394\n",
      "Epoch 4, Loss: 0.0368\n",
      "Epoch 5, Loss: 0.0332\n",
      "Epoch 6, Loss: 0.0334\n",
      "Epoch 7, Loss: 0.0300\n",
      "Epoch 8, Loss: 0.0285\n",
      "Epoch 9, Loss: 0.0276\n",
      "Epoch 10, Loss: 0.0250\n"
     ]
    }
   ],
   "source": [
    "model.train()\n",
    "for epoch in range(10):\n",
    "    total_loss = 0.0\n",
    "    for inputs, targets in train_loader:\n",
    "        inputs, targets = inputs.to(device), targets.to(device)\n",
    "        optimizer.zero_grad()\n",
    "        exits, _ = model(inputs)  # Get all exits\n",
    "        loss = criterion(exits, targets)\n",
    "        loss.backward()\n",
    "        optimizer.step()\n",
    "        total_loss += loss.item()\n",
    "    print(f\"Epoch {epoch+1}, Loss: {total_loss/len(train_loader):.4f}\")"
   ]
  },
  {
   "cell_type": "code",
   "execution_count": 11,
   "metadata": {},
   "outputs": [
    {
     "name": "stdout",
     "output_type": "stream",
     "text": [
      "Test Accuracy: 98.49%\n",
      "Exit 1: 96.5%, Exit 2: 3.2%, Final Exit: 0.3%\n"
     ]
    }
   ],
   "source": [
    "confidence_threshold = 0.7\n",
    "model.eval()\n",
    "correct, total, exits_used = 0, 0, [0, 0, 0]\n",
    "with torch.no_grad():\n",
    "    for inputs, targets in test_loader:\n",
    "        inputs, targets = inputs.to(device), targets.to(device)\n",
    "        logits, exit_idx = model(inputs, confidence_threshold)\n",
    "        _, predicted = torch.max(logits, 1)\n",
    "        correct += (predicted == targets).sum().item()\n",
    "        total += targets.size(0)\n",
    "        exits_used[exit_idx-1] += 1  # exit_idx is 1,2,3\n",
    "accuracy = 100 * correct / total\n",
    "exit_rates = [100 * e / total for e in exits_used]\n",
    "\n",
    "print(f\"Test Accuracy: {accuracy:.2f}%\")\n",
    "print(f\"Exit 1: {exit_rates[0]:.1f}%, Exit 2: {exit_rates[1]:.1f}%, Final Exit: {exit_rates[2]:.1f}%\")"
   ]
  },
  {
   "cell_type": "code",
   "execution_count": null,
   "metadata": {},
   "outputs": [],
   "source": []
  },
  {
   "cell_type": "code",
   "execution_count": null,
   "metadata": {},
   "outputs": [],
   "source": []
  }
 ],
 "metadata": {
  "kernelspec": {
   "display_name": "basicsr",
   "language": "python",
   "name": "python3"
  },
  "language_info": {
   "codemirror_mode": {
    "name": "ipython",
    "version": 3
   },
   "file_extension": ".py",
   "mimetype": "text/x-python",
   "name": "python",
   "nbconvert_exporter": "python",
   "pygments_lexer": "ipython3",
   "version": "3.11.11"
  }
 },
 "nbformat": 4,
 "nbformat_minor": 2
}
